{
 "cells": [
  {
   "cell_type": "markdown",
   "id": "5ed0b6a6-5a33-4cc8-a863-ae62f382d12e",
   "metadata": {},
   "source": [
    "## DataTypes and operations\n",
    "\n",
    "---\n",
    "<font color=\"red\"> <strong>\n",
    " </strong>\n",
    "</font>\n",
    "\n",
    "---"
   ]
  },
  {
   "cell_type": "markdown",
   "id": "90cb643b",
   "metadata": {},
   "source": [
    "## Integers\n",
    "\n",
    "Integers are whole numbers and not a fractional number"
   ]
  },
  {
   "cell_type": "code",
   "execution_count": 1,
   "id": "eb1a4e7d-1769-43db-ad03-faaaedf7c104",
   "metadata": {},
   "outputs": [
    {
     "name": "stdout",
     "output_type": "stream",
     "text": [
      "34 21 12 45\n"
     ]
    }
   ],
   "source": [
    "first_int = 34\n",
    "second_int = 21\n",
    "third_int = 12\n",
    "fourth_int = 45\n",
    "\n",
    "\n",
    "print(first_int, second_int, third_int, fourth_int)"
   ]
  },
  {
   "cell_type": "markdown",
   "id": "883bb7e6",
   "metadata": {},
   "source": [
    "Python built_in function called type()"
   ]
  },
  {
   "cell_type": "code",
   "execution_count": 2,
   "id": "d51af2c9-c994-45f1-ab00-dc5dfebb2191",
   "metadata": {},
   "outputs": [
    {
     "data": {
      "text/plain": [
       "int"
      ]
     },
     "execution_count": 2,
     "metadata": {},
     "output_type": "execute_result"
    }
   ],
   "source": [
    "type(456)"
   ]
  },
  {
   "cell_type": "code",
   "execution_count": 4,
   "id": "0e3dfde0",
   "metadata": {},
   "outputs": [
    {
     "data": {
      "text/plain": [
       "int"
      ]
     },
     "execution_count": 4,
     "metadata": {},
     "output_type": "execute_result"
    }
   ],
   "source": [
    "type(first_int)"
   ]
  },
  {
   "cell_type": "code",
   "execution_count": 5,
   "id": "c3f1072c",
   "metadata": {},
   "outputs": [
    {
     "name": "stdout",
     "output_type": "stream",
     "text": [
      "<class 'int'>\n"
     ]
    }
   ],
   "source": [
    "print(type(first_int))"
   ]
  },
  {
   "cell_type": "markdown",
   "id": "1d95b79a",
   "metadata": {},
   "source": [
    "Operations with integer\n",
    "\n",
    "# Arithmetic Operators\n",
    "\n",
    "Addition (+) <br>\n",
    "Subtraction (-) <br>\n",
    "Division (/, //) <br>\n",
    "multiplication (*) <br>\n",
    "modulo (%) <br>\n",
    "exponential (**)"
   ]
  },
  {
   "cell_type": "code",
   "execution_count": 6,
   "id": "7cabb7e7",
   "metadata": {},
   "outputs": [
    {
     "name": "stdout",
     "output_type": "stream",
     "text": [
      "46\n"
     ]
    }
   ],
   "source": [
    "print(first_int + third_int)"
   ]
  },
  {
   "cell_type": "code",
   "execution_count": 7,
   "id": "3cc0d7b7",
   "metadata": {},
   "outputs": [
    {
     "data": {
      "text/plain": [
       "55"
      ]
     },
     "execution_count": 7,
     "metadata": {},
     "output_type": "execute_result"
    }
   ],
   "source": [
    "second_int + first_int"
   ]
  },
  {
   "cell_type": "code",
   "execution_count": 8,
   "id": "aa73b26a",
   "metadata": {},
   "outputs": [
    {
     "name": "stdout",
     "output_type": "stream",
     "text": [
      "11\n"
     ]
    }
   ],
   "source": [
    "print(fourth_int - first_int)"
   ]
  },
  {
   "cell_type": "code",
   "execution_count": 11,
   "id": "adda0494",
   "metadata": {},
   "outputs": [
    {
     "name": "stdout",
     "output_type": "stream",
     "text": [
      "-22\n"
     ]
    }
   ],
   "source": [
    "print((first_int - third_int) * -1)"
   ]
  },
  {
   "cell_type": "code",
   "execution_count": 12,
   "id": "172d4047",
   "metadata": {},
   "outputs": [
    {
     "name": "stdout",
     "output_type": "stream",
     "text": [
      "22\n"
     ]
    }
   ],
   "source": [
    "print(abs(third_int - first_int))"
   ]
  },
  {
   "cell_type": "code",
   "execution_count": 13,
   "id": "a764bcf1",
   "metadata": {},
   "outputs": [
    {
     "name": "stdout",
     "output_type": "stream",
     "text": [
      "0.26666666666666666\n"
     ]
    }
   ],
   "source": [
    "print(third_int / fourth_int)"
   ]
  },
  {
   "cell_type": "code",
   "execution_count": 14,
   "id": "43d5b5cb",
   "metadata": {},
   "outputs": [
    {
     "name": "stdout",
     "output_type": "stream",
     "text": [
      "0\n"
     ]
    }
   ],
   "source": [
    "print(third_int // fourth_int)"
   ]
  },
  {
   "cell_type": "code",
   "execution_count": 15,
   "id": "cc9af3a5",
   "metadata": {},
   "outputs": [
    {
     "name": "stdout",
     "output_type": "stream",
     "text": [
      "4.2\n"
     ]
    }
   ],
   "source": [
    "print(21/5)"
   ]
  },
  {
   "cell_type": "code",
   "execution_count": 16,
   "id": "1632ff87",
   "metadata": {},
   "outputs": [
    {
     "name": "stdout",
     "output_type": "stream",
     "text": [
      "4.5\n"
     ]
    }
   ],
   "source": [
    "print(18 / 4)"
   ]
  },
  {
   "cell_type": "code",
   "execution_count": 17,
   "id": "497370a4",
   "metadata": {},
   "outputs": [
    {
     "name": "stdout",
     "output_type": "stream",
     "text": [
      "4\n"
     ]
    }
   ],
   "source": [
    "print(18 // 4)"
   ]
  },
  {
   "cell_type": "code",
   "execution_count": 20,
   "id": "90dcee50",
   "metadata": {},
   "outputs": [
    {
     "name": "stdout",
     "output_type": "stream",
     "text": [
      "252\n"
     ]
    }
   ],
   "source": [
    "print(second_int * third_int)"
   ]
  },
  {
   "cell_type": "code",
   "execution_count": 21,
   "id": "4b2344a7",
   "metadata": {},
   "outputs": [
    {
     "data": {
      "text/plain": [
       "4"
      ]
     },
     "execution_count": 21,
     "metadata": {},
     "output_type": "execute_result"
    }
   ],
   "source": [
    "2 * 2"
   ]
  },
  {
   "cell_type": "code",
   "execution_count": 22,
   "id": "d8513421",
   "metadata": {},
   "outputs": [
    {
     "data": {
      "text/plain": [
       "27"
      ]
     },
     "execution_count": 22,
     "metadata": {},
     "output_type": "execute_result"
    }
   ],
   "source": [
    "3 * 9"
   ]
  },
  {
   "cell_type": "code",
   "execution_count": 23,
   "id": "63c87538",
   "metadata": {},
   "outputs": [
    {
     "data": {
      "text/plain": [
       "10"
      ]
     },
     "execution_count": 23,
     "metadata": {},
     "output_type": "execute_result"
    }
   ],
   "source": [
    "first_int % third_int"
   ]
  },
  {
   "cell_type": "code",
   "execution_count": 24,
   "id": "d18aa64c",
   "metadata": {},
   "outputs": [
    {
     "data": {
      "text/plain": [
       "(34, 12)"
      ]
     },
     "execution_count": 24,
     "metadata": {},
     "output_type": "execute_result"
    }
   ],
   "source": [
    "first_int, third_int"
   ]
  },
  {
   "cell_type": "code",
   "execution_count": 26,
   "id": "26670b07",
   "metadata": {},
   "outputs": [
    {
     "data": {
      "text/plain": [
       "9"
      ]
     },
     "execution_count": 26,
     "metadata": {},
     "output_type": "execute_result"
    }
   ],
   "source": [
    "3 ** 2"
   ]
  },
  {
   "cell_type": "code",
   "execution_count": 27,
   "id": "c5b80f2d",
   "metadata": {},
   "outputs": [
    {
     "name": "stdout",
     "output_type": "stream",
     "text": [
      "902518308877795191433240103403256374623457081\n"
     ]
    }
   ],
   "source": [
    "print(second_int ** first_int)"
   ]
  },
  {
   "cell_type": "markdown",
   "id": "14c2f2c9",
   "metadata": {},
   "source": [
    "## Order of Precedence in Integer\n",
    "\n",
    "> B -> Brackets <br>\n",
    "> E -> Exponential <br>\n",
    "> D -> Division <br>\n",
    "> M  -> Multiplication <br>\n",
    "> A -> Addition <br>\n",
    "> S -> Subtraction <br>"
   ]
  },
  {
   "cell_type": "code",
   "execution_count": 28,
   "id": "480475a9",
   "metadata": {},
   "outputs": [
    {
     "data": {
      "text/plain": [
       "3.0"
      ]
     },
     "execution_count": 28,
     "metadata": {},
     "output_type": "execute_result"
    }
   ],
   "source": [
    "2 * 3 / 2"
   ]
  },
  {
   "cell_type": "code",
   "execution_count": 29,
   "id": "276cb14f",
   "metadata": {},
   "outputs": [
    {
     "data": {
      "text/plain": [
       "3.0"
      ]
     },
     "execution_count": 29,
     "metadata": {},
     "output_type": "execute_result"
    }
   ],
   "source": [
    "6 / 2"
   ]
  },
  {
   "cell_type": "code",
   "execution_count": 30,
   "id": "caa2e4d9",
   "metadata": {},
   "outputs": [
    {
     "data": {
      "text/plain": [
       "12.0"
      ]
     },
     "execution_count": 30,
     "metadata": {},
     "output_type": "execute_result"
    }
   ],
   "source": [
    "9 * 4 / 3"
   ]
  },
  {
   "cell_type": "code",
   "execution_count": 33,
   "id": "3f2d0b27",
   "metadata": {},
   "outputs": [
    {
     "data": {
      "text/plain": [
       "2.0"
      ]
     },
     "execution_count": 33,
     "metadata": {},
     "output_type": "execute_result"
    }
   ],
   "source": [
    "(9 / 3) * (2%5) / (81 **(1/4))"
   ]
  },
  {
   "cell_type": "code",
   "execution_count": 42,
   "id": "0a9562bd",
   "metadata": {},
   "outputs": [],
   "source": [
    "from math import ceil, floor, sqrt"
   ]
  },
  {
   "cell_type": "code",
   "execution_count": 48,
   "id": "fa8ee0de",
   "metadata": {},
   "outputs": [
    {
     "data": {
      "text/plain": [
       "9"
      ]
     },
     "execution_count": 48,
     "metadata": {},
     "output_type": "execute_result"
    }
   ],
   "source": [
    "floor(9.9)"
   ]
  },
  {
   "cell_type": "code",
   "execution_count": 52,
   "id": "948f160e",
   "metadata": {},
   "outputs": [
    {
     "data": {
      "text/plain": [
       "8"
      ]
     },
     "execution_count": 52,
     "metadata": {},
     "output_type": "execute_result"
    }
   ],
   "source": [
    "floor(27 ** (2/3))"
   ]
  },
  {
   "cell_type": "code",
   "execution_count": 35,
   "id": "67b73d4f",
   "metadata": {},
   "outputs": [
    {
     "data": {
      "text/plain": [
       "0.5"
      ]
     },
     "execution_count": 35,
     "metadata": {},
     "output_type": "execute_result"
    }
   ],
   "source": [
    "1/2"
   ]
  },
  {
   "cell_type": "markdown",
   "id": "78ca4e90",
   "metadata": {},
   "source": [
    "### Floating Point Numbers"
   ]
  },
  {
   "cell_type": "code",
   "execution_count": 53,
   "id": "0ecfcd90",
   "metadata": {},
   "outputs": [
    {
     "name": "stdout",
     "output_type": "stream",
     "text": [
      "<class 'float'>\n",
      "<class 'float'>\n",
      "<class 'int'>\n"
     ]
    }
   ],
   "source": [
    "float_1 = 1.0\n",
    "float_2 = 3.5\n",
    "int_1 = 1\n",
    "\n",
    "print(type(float_1))\n",
    "print(type(float_2))\n",
    "print(type(int_1))"
   ]
  },
  {
   "cell_type": "code",
   "execution_count": 54,
   "id": "f1694723",
   "metadata": {},
   "outputs": [
    {
     "name": "stdout",
     "output_type": "stream",
     "text": [
      "4.5\n"
     ]
    }
   ],
   "source": [
    "print(float_1 + float_2)"
   ]
  },
  {
   "cell_type": "code",
   "execution_count": 55,
   "id": "37217c06",
   "metadata": {},
   "outputs": [
    {
     "name": "stdout",
     "output_type": "stream",
     "text": [
      "1.0\n"
     ]
    }
   ],
   "source": [
    "print(float_1 ** float_2)"
   ]
  },
  {
   "cell_type": "code",
   "execution_count": 56,
   "id": "bdda6982",
   "metadata": {},
   "outputs": [
    {
     "name": "stdout",
     "output_type": "stream",
     "text": [
      "2947.9096674645207\n"
     ]
    }
   ],
   "source": [
    "float_3 = 4.2\n",
    "float_4 = 6.7\n",
    "\n",
    "print(float_4 ** float_3)"
   ]
  },
  {
   "cell_type": "markdown",
   "id": "1240a054",
   "metadata": {},
   "source": [
    "### Type Casting\n",
    "\n",
    "---\n",
    "\n",
    "You can type cast an integer to a float and vice versal\n",
    "\n",
    "---"
   ]
  },
  {
   "cell_type": "code",
   "execution_count": 58,
   "id": "fda095b7",
   "metadata": {},
   "outputs": [
    {
     "data": {
      "text/plain": [
       "int"
      ]
     },
     "execution_count": 58,
     "metadata": {},
     "output_type": "execute_result"
    }
   ],
   "source": [
    "type(first_int)"
   ]
  },
  {
   "cell_type": "code",
   "execution_count": 60,
   "id": "a51b168c",
   "metadata": {},
   "outputs": [
    {
     "data": {
      "text/plain": [
       "float"
      ]
     },
     "execution_count": 60,
     "metadata": {},
     "output_type": "execute_result"
    }
   ],
   "source": [
    "type(float(first_int))"
   ]
  },
  {
   "cell_type": "code",
   "execution_count": 62,
   "id": "1844e816",
   "metadata": {},
   "outputs": [
    {
     "data": {
      "text/plain": [
       "float"
      ]
     },
     "execution_count": 62,
     "metadata": {},
     "output_type": "execute_result"
    }
   ],
   "source": [
    "type(float_4)"
   ]
  },
  {
   "cell_type": "code",
   "execution_count": 64,
   "id": "5b6d0723",
   "metadata": {},
   "outputs": [
    {
     "data": {
      "text/plain": [
       "6"
      ]
     },
     "execution_count": 64,
     "metadata": {},
     "output_type": "execute_result"
    }
   ],
   "source": [
    "int(float_4)"
   ]
  },
  {
   "cell_type": "code",
   "execution_count": 65,
   "id": "b338827b",
   "metadata": {},
   "outputs": [],
   "source": [
    "float_5 = 2.5"
   ]
  },
  {
   "cell_type": "code",
   "execution_count": 66,
   "id": "3026d273",
   "metadata": {},
   "outputs": [
    {
     "data": {
      "text/plain": [
       "9"
      ]
     },
     "execution_count": 66,
     "metadata": {},
     "output_type": "execute_result"
    }
   ],
   "source": [
    "3 ** int(float_5)"
   ]
  },
  {
   "cell_type": "code",
   "execution_count": 67,
   "id": "fd906478",
   "metadata": {},
   "outputs": [
    {
     "data": {
      "text/plain": [
       "6.7"
      ]
     },
     "execution_count": 67,
     "metadata": {},
     "output_type": "execute_result"
    }
   ],
   "source": [
    "float_4"
   ]
  },
  {
   "cell_type": "markdown",
   "id": "2b8f76a8",
   "metadata": {},
   "source": [
    "#### Strings and operations"
   ]
  },
  {
   "cell_type": "code",
   "execution_count": 76,
   "id": "a9084ad5",
   "metadata": {},
   "outputs": [
    {
     "name": "stdout",
     "output_type": "stream",
     "text": [
      "my name is Victor\n",
      "I am a data scientist\n",
      ",.adhxygudb,snmcsamm,naxvsv,axsc    klhsdj,admdasvm  ;lasnjhkbac\n"
     ]
    }
   ],
   "source": [
    "my_str_1 = 'my name is Victor'\n",
    "my_str_2 = \"I am a data scientist\"\n",
    "my_str_3 = \"\"\",.adhxygudb,snmcsamm,naxvsv,axsc    klhsdj,admdasvm  ;lasnjhkbac\"\"\"\n",
    "\n",
    "print(my_str_1)\n",
    "print(my_str_2)\n",
    "print(my_str_3)"
   ]
  },
  {
   "cell_type": "code",
   "execution_count": 72,
   "id": "0382abf2",
   "metadata": {},
   "outputs": [
    {
     "data": {
      "text/plain": [
       "'victorvictorvictorvictorvictorvictorvictorvictorvictorvictorvictorvictor'"
      ]
     },
     "execution_count": 72,
     "metadata": {},
     "output_type": "execute_result"
    }
   ],
   "source": [
    "\"victor\" * 12"
   ]
  },
  {
   "cell_type": "code",
   "execution_count": 73,
   "id": "99415872",
   "metadata": {},
   "outputs": [
    {
     "name": "stdout",
     "output_type": "stream",
     "text": [
      "<class 'str'>\n"
     ]
    }
   ],
   "source": [
    "my_str_4 = \"123344\"\n",
    "\n",
    "print(type(my_str_4))"
   ]
  },
  {
   "cell_type": "code",
   "execution_count": 75,
   "id": "d6ddac82",
   "metadata": {},
   "outputs": [
    {
     "data": {
      "text/plain": [
       "int"
      ]
     },
     "execution_count": 75,
     "metadata": {},
     "output_type": "execute_result"
    }
   ],
   "source": [
    "type(int(my_str_4))"
   ]
  },
  {
   "cell_type": "code",
   "execution_count": 79,
   "id": "f9f30e9e",
   "metadata": {},
   "outputs": [
    {
     "name": "stdout",
     "output_type": "stream",
     "text": [
      "17\n",
      "21\n",
      "64\n",
      "6\n"
     ]
    }
   ],
   "source": [
    "print(len(my_str_1))\n",
    "print(len(my_str_2))\n",
    "print(len(my_str_3))\n",
    "print(len(my_str_4))"
   ]
  },
  {
   "cell_type": "code",
   "execution_count": 81,
   "id": "b50acd0f",
   "metadata": {},
   "outputs": [
    {
     "name": "stdout",
     "output_type": "stream",
     "text": [
      "Victor\n",
      "Victor\n",
      "Victor\n"
     ]
    }
   ],
   "source": [
    "name = 'Victor'\n",
    "name2 = \"Victor\"\n",
    "name3 = \"\"\"Victor\"\"\"\n",
    "\n",
    "print(name)\n",
    "print(name2)\n",
    "print(name3)"
   ]
  },
  {
   "cell_type": "code",
   "execution_count": 82,
   "id": "4a766a15",
   "metadata": {},
   "outputs": [
    {
     "name": "stdout",
     "output_type": "stream",
     "text": [
      "<class 'str'>\n",
      "<class 'str'>\n",
      "<class 'str'>\n"
     ]
    }
   ],
   "source": [
    "print(type(name))\n",
    "print(type(name2))\n",
    "print(type(name3))"
   ]
  },
  {
   "cell_type": "markdown",
   "id": "78652ec6",
   "metadata": {},
   "source": [
    "### Operations Performed with/On Strings\n",
    "\n",
    "- Concantenation -> joining two strings together"
   ]
  },
  {
   "cell_type": "code",
   "execution_count": 86,
   "id": "d46fc7e1",
   "metadata": {},
   "outputs": [
    {
     "name": "stdout",
     "output_type": "stream",
     "text": [
      "Hello , World\n"
     ]
    }
   ],
   "source": [
    "str_1 = \"Hello\"\n",
    "\n",
    "str_2 = \"World\"\n",
    "\n",
    "print(str_1, \",\", str_2)\n"
   ]
  },
  {
   "cell_type": "code",
   "execution_count": 84,
   "id": "67afd072",
   "metadata": {},
   "outputs": [
    {
     "data": {
      "text/plain": [
       "4"
      ]
     },
     "execution_count": 84,
     "metadata": {},
     "output_type": "execute_result"
    }
   ],
   "source": [
    "2+2"
   ]
  },
  {
   "cell_type": "code",
   "execution_count": 87,
   "id": "ad82835e",
   "metadata": {},
   "outputs": [
    {
     "name": "stdout",
     "output_type": "stream",
     "text": [
      "HelloWorld\n"
     ]
    }
   ],
   "source": [
    "con_1 = str_1 + str_2\n",
    "\n",
    "print(con_1)"
   ]
  },
  {
   "cell_type": "code",
   "execution_count": 88,
   "id": "1f2b0e7d",
   "metadata": {},
   "outputs": [
    {
     "name": "stdout",
     "output_type": "stream",
     "text": [
      "9\n",
      "<class 'str'>\n"
     ]
    }
   ],
   "source": [
    "empty_str = \"         \"\n",
    "\n",
    "print(len(empty_str))\n",
    "print(type(empty_str))"
   ]
  },
  {
   "cell_type": "code",
   "execution_count": 90,
   "id": "e094918d",
   "metadata": {},
   "outputs": [
    {
     "name": "stdout",
     "output_type": "stream",
     "text": [
      "<class 'str'>\n"
     ]
    }
   ],
   "source": [
    "con_2 = str_1 + empty_str + str_2\n",
    "print(type(con_2))"
   ]
  },
  {
   "cell_type": "markdown",
   "id": "6770e849",
   "metadata": {},
   "source": [
    "- slice strings using indexing"
   ]
  },
  {
   "cell_type": "code",
   "execution_count": 91,
   "id": "9f3e7208",
   "metadata": {},
   "outputs": [
    {
     "data": {
      "text/plain": [
       "'H'"
      ]
     },
     "execution_count": 91,
     "metadata": {},
     "output_type": "execute_result"
    }
   ],
   "source": [
    "my_str_1 = \"Hello World\"\n",
    "\n",
    "# When going forward H is at index 0 with a step size of 1\n",
    "# When going backwards 'd' is at index -1\n",
    "\n",
    "my_str_1[0]"
   ]
  },
  {
   "cell_type": "code",
   "execution_count": 92,
   "id": "bf8c97eb",
   "metadata": {},
   "outputs": [
    {
     "data": {
      "text/plain": [
       "'e'"
      ]
     },
     "execution_count": 92,
     "metadata": {},
     "output_type": "execute_result"
    }
   ],
   "source": [
    "my_str_1[1]"
   ]
  },
  {
   "cell_type": "code",
   "execution_count": 93,
   "id": "0033c904",
   "metadata": {},
   "outputs": [
    {
     "data": {
      "text/plain": [
       "'l'"
      ]
     },
     "execution_count": 93,
     "metadata": {},
     "output_type": "execute_result"
    }
   ],
   "source": [
    "my_str_1[2]"
   ]
  },
  {
   "cell_type": "markdown",
   "id": "68e565d4",
   "metadata": {},
   "source": [
    "- Slicing strings using range"
   ]
  },
  {
   "cell_type": "code",
   "execution_count": 97,
   "id": "8b1a260d",
   "metadata": {},
   "outputs": [
    {
     "data": {
      "text/plain": [
       "'Hello'"
      ]
     },
     "execution_count": 97,
     "metadata": {},
     "output_type": "execute_result"
    }
   ],
   "source": [
    "my_str_1[0:5]"
   ]
  },
  {
   "cell_type": "code",
   "execution_count": 98,
   "id": "d2efc27e",
   "metadata": {},
   "outputs": [
    {
     "data": {
      "text/plain": [
       "11"
      ]
     },
     "execution_count": 98,
     "metadata": {},
     "output_type": "execute_result"
    }
   ],
   "source": [
    "len(my_str_1)"
   ]
  },
  {
   "cell_type": "code",
   "execution_count": 99,
   "id": "3f88bf73",
   "metadata": {},
   "outputs": [
    {
     "data": {
      "text/plain": [
       "'World'"
      ]
     },
     "execution_count": 99,
     "metadata": {},
     "output_type": "execute_result"
    }
   ],
   "source": [
    "my_str_1[6:len(my_str_1)]"
   ]
  },
  {
   "cell_type": "code",
   "execution_count": 100,
   "id": "61fea810",
   "metadata": {},
   "outputs": [
    {
     "data": {
      "text/plain": [
       "'Hello World'"
      ]
     },
     "execution_count": 100,
     "metadata": {},
     "output_type": "execute_result"
    }
   ],
   "source": [
    "my_str_1[:]"
   ]
  },
  {
   "cell_type": "code",
   "execution_count": 101,
   "id": "3af64005",
   "metadata": {},
   "outputs": [
    {
     "data": {
      "text/plain": [
       "'o World'"
      ]
     },
     "execution_count": 101,
     "metadata": {},
     "output_type": "execute_result"
    }
   ],
   "source": [
    "my_str_1[4:]"
   ]
  },
  {
   "cell_type": "code",
   "execution_count": 102,
   "id": "b722e47f",
   "metadata": {},
   "outputs": [
    {
     "data": {
      "text/plain": [
       "'Hello'"
      ]
     },
     "execution_count": 102,
     "metadata": {},
     "output_type": "execute_result"
    }
   ],
   "source": [
    "my_str_1[:5]"
   ]
  },
  {
   "cell_type": "code",
   "execution_count": 103,
   "id": "2bab04e8",
   "metadata": {},
   "outputs": [
    {
     "data": {
      "text/plain": [
       "'Hello World'"
      ]
     },
     "execution_count": 103,
     "metadata": {},
     "output_type": "execute_result"
    }
   ],
   "source": [
    "my_str_1[::1]"
   ]
  },
  {
   "cell_type": "code",
   "execution_count": 104,
   "id": "2a7c4a1a",
   "metadata": {},
   "outputs": [
    {
     "data": {
      "text/plain": [
       "'HloWrd'"
      ]
     },
     "execution_count": 104,
     "metadata": {},
     "output_type": "execute_result"
    }
   ],
   "source": [
    "my_str_1[::2]"
   ]
  },
  {
   "cell_type": "code",
   "execution_count": 105,
   "id": "d6f68a2e",
   "metadata": {},
   "outputs": [
    {
     "data": {
      "text/plain": [
       "'HlWl'"
      ]
     },
     "execution_count": 105,
     "metadata": {},
     "output_type": "execute_result"
    }
   ],
   "source": [
    "my_str_1[::3]"
   ]
  },
  {
   "cell_type": "code",
   "execution_count": 106,
   "id": "99f7de83",
   "metadata": {},
   "outputs": [
    {
     "data": {
      "text/plain": [
       "'Hello World'"
      ]
     },
     "execution_count": 106,
     "metadata": {},
     "output_type": "execute_result"
    }
   ],
   "source": [
    "my_str_1"
   ]
  },
  {
   "cell_type": "code",
   "execution_count": 109,
   "id": "86a5ecaa",
   "metadata": {},
   "outputs": [
    {
     "data": {
      "text/plain": [
       "11"
      ]
     },
     "execution_count": 109,
     "metadata": {},
     "output_type": "execute_result"
    }
   ],
   "source": [
    "len(my_str_1)"
   ]
  },
  {
   "cell_type": "code",
   "execution_count": 110,
   "id": "58fe1128",
   "metadata": {},
   "outputs": [
    {
     "data": {
      "text/plain": [
       "'d'"
      ]
     },
     "execution_count": 110,
     "metadata": {},
     "output_type": "execute_result"
    }
   ],
   "source": [
    "my_str_1[len(my_str_1) -1 ]"
   ]
  },
  {
   "cell_type": "code",
   "execution_count": 111,
   "id": "25de2a91",
   "metadata": {},
   "outputs": [
    {
     "data": {
      "text/plain": [
       "'d'"
      ]
     },
     "execution_count": 111,
     "metadata": {},
     "output_type": "execute_result"
    }
   ],
   "source": [
    "my_str_1[-1]"
   ]
  },
  {
   "cell_type": "code",
   "execution_count": 112,
   "id": "6f186ce1",
   "metadata": {},
   "outputs": [
    {
     "data": {
      "text/plain": [
       "'l'"
      ]
     },
     "execution_count": 112,
     "metadata": {},
     "output_type": "execute_result"
    }
   ],
   "source": [
    "my_str_1[-2]"
   ]
  },
  {
   "cell_type": "code",
   "execution_count": 121,
   "id": "3fa9542f",
   "metadata": {},
   "outputs": [
    {
     "data": {
      "text/plain": [
       "'dlroW'"
      ]
     },
     "execution_count": 121,
     "metadata": {},
     "output_type": "execute_result"
    }
   ],
   "source": [
    "my_str_1[-1:-6:-1]"
   ]
  },
  {
   "cell_type": "code",
   "execution_count": 117,
   "id": "b54fa118",
   "metadata": {},
   "outputs": [
    {
     "data": {
      "text/plain": [
       "'Hlo'"
      ]
     },
     "execution_count": 117,
     "metadata": {},
     "output_type": "execute_result"
    }
   ],
   "source": [
    "my_str_1[0:6:2]"
   ]
  },
  {
   "cell_type": "code",
   "execution_count": 120,
   "id": "86076929",
   "metadata": {},
   "outputs": [
    {
     "data": {
      "text/plain": [
       "-4"
      ]
     },
     "execution_count": 120,
     "metadata": {},
     "output_type": "execute_result"
    }
   ],
   "source": [
    "-3 + -1"
   ]
  },
  {
   "cell_type": "code",
   "execution_count": 122,
   "id": "6b24204e",
   "metadata": {},
   "outputs": [
    {
     "name": "stdout",
     "output_type": "stream",
     "text": [
      "OpeOpeOpeOpeOpeOpeOpeOpeOpeOpe\n"
     ]
    }
   ],
   "source": [
    "name = \"Ope\"\n",
    "\n",
    "print(name * 10)"
   ]
  },
  {
   "cell_type": "code",
   "execution_count": 123,
   "id": "16d2581b",
   "metadata": {},
   "outputs": [
    {
     "ename": "TypeError",
     "evalue": "can only concatenate str (not \"int\") to str",
     "output_type": "error",
     "traceback": [
      "\u001b[1;31m---------------------------------------------------------------------------\u001b[0m",
      "\u001b[1;31mTypeError\u001b[0m                                 Traceback (most recent call last)",
      "Cell \u001b[1;32mIn[123], line 4\u001b[0m\n\u001b[0;32m      1\u001b[0m name \u001b[38;5;241m=\u001b[39m \u001b[38;5;124m\"\u001b[39m\u001b[38;5;124mOpe Johnson\u001b[39m\u001b[38;5;124m\"\u001b[39m\n\u001b[0;32m      2\u001b[0m age \u001b[38;5;241m=\u001b[39m \u001b[38;5;241m35\u001b[39m\n\u001b[1;32m----> 4\u001b[0m \u001b[43mname\u001b[49m\u001b[43m \u001b[49m\u001b[38;5;241;43m+\u001b[39;49m\u001b[43m \u001b[49m\u001b[43mage\u001b[49m\n",
      "\u001b[1;31mTypeError\u001b[0m: can only concatenate str (not \"int\") to str"
     ]
    }
   ],
   "source": [
    "name = \"Ope Johnson\"\n",
    "age = 35\n",
    "\n",
    "name + age"
   ]
  },
  {
   "cell_type": "code",
   "execution_count": 124,
   "id": "34d82986",
   "metadata": {},
   "outputs": [
    {
     "data": {
      "text/plain": [
       "'Ope Johnson35'"
      ]
     },
     "execution_count": 124,
     "metadata": {},
     "output_type": "execute_result"
    }
   ],
   "source": [
    "name + str(age)"
   ]
  },
  {
   "cell_type": "code",
   "execution_count": 125,
   "id": "5c174766",
   "metadata": {},
   "outputs": [
    {
     "data": {
      "text/plain": [
       "'Ope Johnson'"
      ]
     },
     "execution_count": 125,
     "metadata": {},
     "output_type": "execute_result"
    }
   ],
   "source": [
    "name"
   ]
  },
  {
   "cell_type": "code",
   "execution_count": 126,
   "id": "941b5637",
   "metadata": {},
   "outputs": [
    {
     "name": "stdout",
     "output_type": "stream",
     "text": [
      "My name is Ope Johnson\n"
     ]
    }
   ],
   "source": [
    "sent_1 = \"My name is \" + name\n",
    "\n",
    "print(sent_1)"
   ]
  },
  {
   "cell_type": "code",
   "execution_count": 127,
   "id": "e4870684",
   "metadata": {},
   "outputs": [
    {
     "ename": "TypeError",
     "evalue": "can only concatenate str (not \"int\") to str",
     "output_type": "error",
     "traceback": [
      "\u001b[1;31m---------------------------------------------------------------------------\u001b[0m",
      "\u001b[1;31mTypeError\u001b[0m                                 Traceback (most recent call last)",
      "Cell \u001b[1;32mIn[127], line 1\u001b[0m\n\u001b[1;32m----> 1\u001b[0m \u001b[38;5;28mprint\u001b[39m(\u001b[43msent_1\u001b[49m\u001b[43m \u001b[49m\u001b[38;5;241;43m+\u001b[39;49m\u001b[43m \u001b[49m\u001b[38;5;124;43m\"\u001b[39;49m\u001b[38;5;124;43m I am \u001b[39;49m\u001b[38;5;124;43m\"\u001b[39;49m\u001b[43m \u001b[49m\u001b[38;5;241;43m+\u001b[39;49m\u001b[43m \u001b[49m\u001b[43mage\u001b[49m \u001b[38;5;241m+\u001b[39m \u001b[38;5;124m\"\u001b[39m\u001b[38;5;124m years old\u001b[39m\u001b[38;5;124m\"\u001b[39m)\n",
      "\u001b[1;31mTypeError\u001b[0m: can only concatenate str (not \"int\") to str"
     ]
    }
   ],
   "source": [
    "print(sent_1 + \" I am \" + age + \" years old\")"
   ]
  },
  {
   "cell_type": "code",
   "execution_count": 128,
   "id": "9a480e75",
   "metadata": {},
   "outputs": [
    {
     "name": "stdout",
     "output_type": "stream",
     "text": [
      "My name is Ope Johnson I am 35 years old\n"
     ]
    }
   ],
   "source": [
    "print(sent_1 + \" I am \" + str(age) + \" years old\")"
   ]
  },
  {
   "cell_type": "code",
   "execution_count": 129,
   "id": "83e61e36",
   "metadata": {},
   "outputs": [
    {
     "name": "stdout",
     "output_type": "stream",
     "text": [
      "I am Ope Johnson I am 42 years Old\n"
     ]
    }
   ],
   "source": [
    "name = \"Ope Johnson\"\n",
    "age = 42\n",
    "\n",
    "print(\"I am\", name, \"I am\", age, \"years Old\")"
   ]
  },
  {
   "cell_type": "markdown",
   "id": "3356ec6d",
   "metadata": {},
   "source": [
    "--- \n",
    "\n",
    "Formating Strings in python using placeholders\n",
    "\n",
    "What are placeholders??? Placeholders are containers for holding variables, they are represented in surly brackets {}\n",
    "\n",
    "---"
   ]
  },
  {
   "cell_type": "code",
   "execution_count": 131,
   "id": "e0cbff08",
   "metadata": {},
   "outputs": [
    {
     "name": "stdout",
     "output_type": "stream",
     "text": [
      "I am Ope Johnson, I am 42 years old\n"
     ]
    }
   ],
   "source": [
    "print(\"I am {}, I am {} years old\".format(name,age))"
   ]
  },
  {
   "cell_type": "code",
   "execution_count": 136,
   "id": "a95b0977",
   "metadata": {},
   "outputs": [
    {
     "name": "stdout",
     "output_type": "stream",
     "text": [
      "I am Ope Johnson, I am 42 years old\n"
     ]
    }
   ],
   "source": [
    "print(\"I am {}, I am {} years old\".format(name, age))"
   ]
  },
  {
   "cell_type": "code",
   "execution_count": 133,
   "id": "d22b601b",
   "metadata": {},
   "outputs": [
    {
     "data": {
      "text/plain": [
       "'Ope Johnson 42'"
      ]
     },
     "execution_count": 133,
     "metadata": {},
     "output_type": "execute_result"
    }
   ],
   "source": [
    "\"{} {}\".format(name, age)"
   ]
  },
  {
   "cell_type": "code",
   "execution_count": 138,
   "id": "6fa6f09b",
   "metadata": {},
   "outputs": [
    {
     "name": "stdout",
     "output_type": "stream",
     "text": [
      "I am 42 years old and my name is Ope Johnson\n"
     ]
    }
   ],
   "source": [
    "print(\"I am {1} years old and my name is {0}\".format(name, age))"
   ]
  },
  {
   "cell_type": "code",
   "execution_count": 140,
   "id": "8f7cd9ac",
   "metadata": {},
   "outputs": [
    {
     "name": "stdout",
     "output_type": "stream",
     "text": [
      "I am Ope Johnson and I am 42 years old\n"
     ]
    }
   ],
   "source": [
    "print(f\"I am {name} and I am {age} years old\")"
   ]
  },
  {
   "cell_type": "markdown",
   "id": "853139ad",
   "metadata": {},
   "source": [
    "### Escape Character:\n",
    "- Escape character is a backslash followed by the character you want to enter"
   ]
  },
  {
   "cell_type": "code",
   "execution_count": 1,
   "id": "aa406820",
   "metadata": {},
   "outputs": [
    {
     "data": {
      "text/plain": [
       "('', '', ' ')"
      ]
     },
     "execution_count": 1,
     "metadata": {},
     "output_type": "execute_result"
    }
   ],
   "source": [
    "\"\", '', \"\"\" \"\"\""
   ]
  },
  {
   "cell_type": "code",
   "execution_count": 14,
   "id": "e03d4e19",
   "metadata": {},
   "outputs": [],
   "source": [
    "reported_speech = \"The HOC said, \\\"She won't be available today\\\"\""
   ]
  },
  {
   "cell_type": "code",
   "execution_count": 15,
   "id": "9cf21593",
   "metadata": {},
   "outputs": [
    {
     "name": "stdout",
     "output_type": "stream",
     "text": [
      "The HOC said, \"She won't be available today\"\n"
     ]
    }
   ],
   "source": [
    "print(reported_speech)"
   ]
  },
  {
   "cell_type": "code",
   "execution_count": 17,
   "id": "accabcce",
   "metadata": {},
   "outputs": [
    {
     "name": "stdout",
     "output_type": "stream",
     "text": [
      "We are the so called \"Viking\" from the north\n"
     ]
    }
   ],
   "source": [
    "statement = \"We are the so called \\\"Viking\\\" from the north\"\n",
    "\n",
    "print(statement)"
   ]
  },
  {
   "cell_type": "code",
   "execution_count": 20,
   "id": "5e0cb968",
   "metadata": {},
   "outputs": [
    {
     "name": "stdout",
     "output_type": "stream",
     "text": [
      "I don't like the HOC\n"
     ]
    }
   ],
   "source": [
    "ano_state = 'I don\\'t like the HOC'\n",
    "\n",
    "print(ano_state)"
   ]
  },
  {
   "cell_type": "code",
   "execution_count": 35,
   "id": "a11eb195",
   "metadata": {},
   "outputs": [],
   "source": [
    "statements = \"I am writing on the first line \\n\\tI am writing on the second line \\n\\t I am writing on the third line\""
   ]
  },
  {
   "cell_type": "code",
   "execution_count": 36,
   "id": "47601f3b",
   "metadata": {},
   "outputs": [
    {
     "name": "stdout",
     "output_type": "stream",
     "text": [
      "I am writing on the first line \n",
      "\tI am writing on the second line \n",
      "\t I am writing on the third line\n"
     ]
    }
   ],
   "source": [
    "print(statements)"
   ]
  },
  {
   "cell_type": "markdown",
   "id": "77ee77b5",
   "metadata": {},
   "source": [
    "### String methods"
   ]
  },
  {
   "cell_type": "code",
   "execution_count": 53,
   "id": "01be79b2",
   "metadata": {},
   "outputs": [
    {
     "name": "stdout",
     "output_type": "stream",
     "text": [
      "<class 'str'>\n"
     ]
    }
   ],
   "source": [
    "my_txt = \"I love apples, and I buy apples so much that I think I am addicted.jpg\"\n",
    "\n",
    "print(type(my_txt))\n"
   ]
  },
  {
   "cell_type": "code",
   "execution_count": 38,
   "id": "b5fc085b",
   "metadata": {},
   "outputs": [
    {
     "data": {
      "text/plain": [
       "'i love apples, and i buy apples so much that i think i am addicted'"
      ]
     },
     "execution_count": 38,
     "metadata": {},
     "output_type": "execute_result"
    }
   ],
   "source": [
    "my_txt.lower()"
   ]
  },
  {
   "cell_type": "code",
   "execution_count": 39,
   "id": "9a2f46d5",
   "metadata": {},
   "outputs": [
    {
     "data": {
      "text/plain": [
       "'I LOVE APPLES, AND I BUY APPLES SO MUCH THAT I THINK I AM ADDICTED'"
      ]
     },
     "execution_count": 39,
     "metadata": {},
     "output_type": "execute_result"
    }
   ],
   "source": [
    "my_txt.upper()"
   ]
  },
  {
   "cell_type": "code",
   "execution_count": 40,
   "id": "f4a52b14",
   "metadata": {},
   "outputs": [
    {
     "data": {
      "text/plain": [
       "'i love apples, and i buy apples so much that i think i am addicted'"
      ]
     },
     "execution_count": 40,
     "metadata": {},
     "output_type": "execute_result"
    }
   ],
   "source": [
    "my_txt.casefold()"
   ]
  },
  {
   "cell_type": "code",
   "execution_count": 48,
   "id": "897e24bd",
   "metadata": {},
   "outputs": [
    {
     "data": {
      "text/plain": [
       "'APPLES'"
      ]
     },
     "execution_count": 48,
     "metadata": {},
     "output_type": "execute_result"
    }
   ],
   "source": [
    "\"apples\".upper()"
   ]
  },
  {
   "cell_type": "code",
   "execution_count": 49,
   "id": "81676fee",
   "metadata": {},
   "outputs": [
    {
     "data": {
      "text/plain": [
       "0"
      ]
     },
     "execution_count": 49,
     "metadata": {},
     "output_type": "execute_result"
    }
   ],
   "source": [
    "my_txt.count(\"apples\".upper())"
   ]
  },
  {
   "cell_type": "code",
   "execution_count": 51,
   "id": "d9f39c69",
   "metadata": {},
   "outputs": [
    {
     "data": {
      "text/plain": [
       "4"
      ]
     },
     "execution_count": 51,
     "metadata": {},
     "output_type": "execute_result"
    }
   ],
   "source": [
    "my_txt.count(\"i\".upper())"
   ]
  },
  {
   "cell_type": "code",
   "execution_count": 54,
   "id": "6b17f5b0",
   "metadata": {},
   "outputs": [
    {
     "data": {
      "text/plain": [
       "True"
      ]
     },
     "execution_count": 54,
     "metadata": {},
     "output_type": "execute_result"
    }
   ],
   "source": [
    "my_txt.endswith('.jpg')"
   ]
  },
  {
   "cell_type": "code",
   "execution_count": 55,
   "id": "1f448c1a",
   "metadata": {},
   "outputs": [
    {
     "data": {
      "text/plain": [
       "True"
      ]
     },
     "execution_count": 55,
     "metadata": {},
     "output_type": "execute_result"
    }
   ],
   "source": [
    "my_txt.startswith('I')"
   ]
  },
  {
   "cell_type": "code",
   "execution_count": 56,
   "id": "8fd501fc",
   "metadata": {},
   "outputs": [
    {
     "name": "stdout",
     "output_type": "stream",
     "text": [
      "    I love apples, and I buy apples so much that I think I am addicted.jpg    \n"
     ]
    }
   ],
   "source": [
    "my_txt = \"    I love apples, and I buy apples so much that I think I am addicted.jpg    \"\n",
    "\n",
    "print(my_txt)"
   ]
  },
  {
   "cell_type": "code",
   "execution_count": 57,
   "id": "83b5e6c8",
   "metadata": {},
   "outputs": [
    {
     "data": {
      "text/plain": [
       "'I love apples, and I buy apples so much that I think I am addicted.jpg    '"
      ]
     },
     "execution_count": 57,
     "metadata": {},
     "output_type": "execute_result"
    }
   ],
   "source": [
    "my_txt.lstrip()"
   ]
  },
  {
   "cell_type": "code",
   "execution_count": 58,
   "id": "9439c50b",
   "metadata": {},
   "outputs": [
    {
     "data": {
      "text/plain": [
       "'    I love apples, and I buy apples so much that I think I am addicted.jpg'"
      ]
     },
     "execution_count": 58,
     "metadata": {},
     "output_type": "execute_result"
    }
   ],
   "source": [
    "my_txt.rstrip()"
   ]
  },
  {
   "cell_type": "code",
   "execution_count": 59,
   "id": "69efa225",
   "metadata": {},
   "outputs": [
    {
     "data": {
      "text/plain": [
       "'I love apples, and I buy apples so much that I think I am addicted.jpg'"
      ]
     },
     "execution_count": 59,
     "metadata": {},
     "output_type": "execute_result"
    }
   ],
   "source": [
    "my_txt.strip()"
   ]
  },
  {
   "cell_type": "code",
   "execution_count": 61,
   "id": "4a566ee3",
   "metadata": {},
   "outputs": [
    {
     "data": {
      "text/plain": [
       "list"
      ]
     },
     "execution_count": 61,
     "metadata": {},
     "output_type": "execute_result"
    }
   ],
   "source": [
    "type(my_txt.split())"
   ]
  },
  {
   "cell_type": "code",
   "execution_count": 74,
   "id": "0a2b9084",
   "metadata": {},
   "outputs": [],
   "source": [
    "names = \"Victor, Yomi, Nahomi, Adara, Opeyemi, Sayo, Madu\"\n",
    "\n",
    "list_names = names.split()"
   ]
  },
  {
   "cell_type": "code",
   "execution_count": 72,
   "id": "2c1f4666",
   "metadata": {},
   "outputs": [
    {
     "data": {
      "text/plain": [
       "['Victor', ' Yomi', ' Nahomi', ' Adara', ' Opeyemi', ' Sayo', ' Madu']"
      ]
     },
     "execution_count": 72,
     "metadata": {},
     "output_type": "execute_result"
    }
   ],
   "source": [
    "names.split(',')"
   ]
  },
  {
   "cell_type": "code",
   "execution_count": 73,
   "id": "aaeac539",
   "metadata": {},
   "outputs": [
    {
     "data": {
      "text/plain": [
       "['Victor', 'Yomi', 'Nahomi', 'Adara', 'Opeyemi', 'Sayo', 'Madu']"
      ]
     },
     "execution_count": 73,
     "metadata": {},
     "output_type": "execute_result"
    }
   ],
   "source": [
    "names.split(', ')"
   ]
  },
  {
   "cell_type": "code",
   "execution_count": 75,
   "id": "98e4334d",
   "metadata": {},
   "outputs": [
    {
     "data": {
      "text/plain": [
       "['Victor,', 'Yomi,', 'Nahomi,', 'Adara,', 'Opeyemi,', 'Sayo,', 'Madu']"
      ]
     },
     "execution_count": 75,
     "metadata": {},
     "output_type": "execute_result"
    }
   ],
   "source": [
    "list_names"
   ]
  },
  {
   "cell_type": "code",
   "execution_count": 78,
   "id": "cfc1f121",
   "metadata": {},
   "outputs": [
    {
     "data": {
      "text/plain": [
       "'Victor, Yomi, Nahomi, Adara, Opeyemi, Sayo, Madu'"
      ]
     },
     "execution_count": 78,
     "metadata": {},
     "output_type": "execute_result"
    }
   ],
   "source": [
    "\" \".join(list_names)"
   ]
  },
  {
   "cell_type": "code",
   "execution_count": null,
   "id": "3a064615",
   "metadata": {},
   "outputs": [],
   "source": []
  }
 ],
 "metadata": {
  "kernelspec": {
   "display_name": "Python 3 (ipykernel)",
   "language": "python",
   "name": "python3"
  },
  "language_info": {
   "codemirror_mode": {
    "name": "ipython",
    "version": 3
   },
   "file_extension": ".py",
   "mimetype": "text/x-python",
   "name": "python",
   "nbconvert_exporter": "python",
   "pygments_lexer": "ipython3",
   "version": "3.11.7"
  }
 },
 "nbformat": 4,
 "nbformat_minor": 5
}
