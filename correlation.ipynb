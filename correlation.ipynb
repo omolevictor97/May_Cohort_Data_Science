{
 "cells": [
  {
   "cell_type": "code",
   "execution_count": null,
   "metadata": {},
   "outputs": [],
   "source": [
    "def correlation_filter(df, target_column, threshold):\n",
    "  # copy the original dataframe\n",
    "  corr_df = df.copy()\n",
    "  corr_df = corr_df.drop(target_column, axis=1)\n",
    "  corr_matrix = corr_df.corr(method=\"spearman\")\n",
    "\n",
    "  correlated_list = []\n",
    "\n",
    "  for i in range(len(corr_matrix)):\n",
    "    for j in range(i + 1, len(corr_matrix)):\n",
    "      if abs(corr_matrix.iloc[i,j]) >= threshold:\n",
    "        correlated_list.append((corr_matrix.columns[i], corr_matrix.columns[j]))\n",
    "  to_drop = list({col for columns in correlated_list for col in columns})\n",
    "  return to_drop, correlated_list\n",
    "\n",
    "to_drop, highly_corr_feats =correlation_filter(df, target_column=\"rough_tail_conc_grade\", threshold=0.7)"
   ]
  },
  {
   "cell_type": "code",
   "execution_count": 8,
   "metadata": {},
   "outputs": [
    {
     "name": "stdout",
     "output_type": "stream",
     "text": [
      "Index(['feature1', 'target'], dtype='object')\n",
      "Index(['feature1'], dtype='object')\n",
      "Dataframe after dropping highly correlated columns:\n",
      "   feature2  target\n",
      "0         5       1\n",
      "1         4       2\n",
      "2         3       3\n",
      "3         2       4\n",
      "4         1       5\n"
     ]
    }
   ],
   "source": [
    "import pandas as pd\n",
    "\n",
    "def drop_highly_correlated_columns(df, target_column):\n",
    "    \"\"\"\n",
    "    Drops columns that have a 100% correlation with the target column.\n",
    "    \n",
    "    Parameters:\n",
    "    df (pandas.DataFrame): The input dataframe containing the target column.\n",
    "    target_column (str): The name of the target column.\n",
    "    \n",
    "    Returns:\n",
    "    pandas.DataFrame: The dataframe with highly correlated columns dropped.\n",
    "    \"\"\"\n",
    "    # Calculate the correlation matrix\n",
    "    correlation_matrix = df.corr()\n",
    "\n",
    "    \n",
    "    \n",
    "    # Get the correlation of each column with the target column\n",
    "    target_correlation = correlation_matrix[target_column]\n",
    "    \n",
    "    \n",
    "    # Find columns that have a 100% correlation with the target column\n",
    "    columns_to_drop = target_correlation[target_correlation == 1.0].index\n",
    "    print(columns_to_drop)\n",
    "    \n",
    "    # Drop the target column itself from the columns to be dropped\n",
    "    columns_to_drop = columns_to_drop.drop(target_column)\n",
    "    print(columns_to_drop)\n",
    "    \n",
    "    # Drop the columns from the dataframe\n",
    "    df_dropped = df.drop(columns=columns_to_drop)\n",
    "    \n",
    "    return df_dropped\n",
    "\n",
    "# Example usage\n",
    "if __name__ == \"__main__\":\n",
    "    # Create a sample dataframe\n",
    "    data = {\n",
    "        'feature1': [1, 2, 3, 4, 5],\n",
    "        'feature2': [5, 4, 3, 2, 1],\n",
    "        'target': [1, 2, 3, 4, 5]  # feature1 is perfectly correlated with target\n",
    "    }\n",
    "    df = pd.DataFrame(data)\n",
    "    \n",
    "    # Drop highly correlated columns\n",
    "    df_cleaned = drop_highly_correlated_columns(df, 'target')\n",
    "    print(\"Dataframe after dropping highly correlated columns:\")\n",
    "    print(df_cleaned)\n"
   ]
  },
  {
   "cell_type": "code",
   "execution_count": null,
   "metadata": {},
   "outputs": [],
   "source": []
  }
 ],
 "metadata": {
  "kernelspec": {
   "display_name": "base",
   "language": "python",
   "name": "python3"
  },
  "language_info": {
   "codemirror_mode": {
    "name": "ipython",
    "version": 3
   },
   "file_extension": ".py",
   "mimetype": "text/x-python",
   "name": "python",
   "nbconvert_exporter": "python",
   "pygments_lexer": "ipython3",
   "version": "3.11.7"
  }
 },
 "nbformat": 4,
 "nbformat_minor": 2
}
