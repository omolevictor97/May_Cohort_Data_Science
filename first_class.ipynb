{
  "cells": [
    {
      "cell_type": "markdown",
      "metadata": {
        "id": "xJ741XOOdSkO"
      },
      "source": [
        "**Print Funtion**:\n",
        "This is a statement used to print information on the screen"
      ]
    },
    {
      "cell_type": "code",
      "execution_count": 1,
      "metadata": {
        "colab": {
          "base_uri": "https://localhost:8080/"
        },
        "id": "u41hRAh_dNkx",
        "outputId": "fc45425b-80df-4ade-96f1-6d01ce14e899"
      },
      "outputs": [
        {
          "data": {
            "text/plain": [
              "4"
            ]
          },
          "execution_count": 1,
          "metadata": {},
          "output_type": "execute_result"
        }
      ],
      "source": [
        "2+2"
      ]
    },
    {
      "cell_type": "code",
      "execution_count": 2,
      "metadata": {
        "colab": {
          "base_uri": "https://localhost:8080/",
          "height": 106
        },
        "id": "2iHghj9DdmMi",
        "outputId": "3b000f5c-d7b1-4e85-f02c-68761cc42e78"
      },
      "outputs": [
        {
          "name": "stdout",
          "output_type": "stream",
          "text": [
            "2\n"
          ]
        }
      ],
      "source": [
        "print(2)"
      ]
    },
    {
      "cell_type": "markdown",
      "metadata": {
        "id": "Rf8G_74Jd4Ip"
      },
      "source": [
        "> Python is a case-sensitive programming language <br>\n",
        "so print and Print is not same in python"
      ]
    },
    {
      "cell_type": "code",
      "execution_count": 3,
      "metadata": {
        "colab": {
          "base_uri": "https://localhost:8080/",
          "height": 141
        },
        "id": "3nogluG5dqMD",
        "outputId": "fa3d6aed-f94b-4ebf-f0c0-68e1a9f2e78d"
      },
      "outputs": [
        {
          "ename": "NameError",
          "evalue": "name 'Print' is not defined",
          "output_type": "error",
          "traceback": [
            "\u001b[1;31m---------------------------------------------------------------------------\u001b[0m",
            "\u001b[1;31mNameError\u001b[0m                                 Traceback (most recent call last)",
            "Cell \u001b[1;32mIn[3], line 1\u001b[0m\n\u001b[1;32m----> 1\u001b[0m \u001b[43mPrint\u001b[49m(\u001b[38;5;241m2\u001b[39m)\n",
            "\u001b[1;31mNameError\u001b[0m: name 'Print' is not defined"
          ]
        }
      ],
      "source": [
        "Print(2)"
      ]
    },
    {
      "cell_type": "code",
      "execution_count": 4,
      "metadata": {
        "colab": {
          "base_uri": "https://localhost:8080/"
        },
        "id": "odgOXYLNdvIn",
        "outputId": "b627c6ce-9fff-40d6-88ee-f90a0e9c8ea6"
      },
      "outputs": [
        {
          "ename": "SyntaxError",
          "evalue": "incomplete input (330939730.py, line 1)",
          "output_type": "error",
          "traceback": [
            "\u001b[1;36m  Cell \u001b[1;32mIn[4], line 1\u001b[1;36m\u001b[0m\n\u001b[1;33m    print(2 + 3\u001b[0m\n\u001b[1;37m               ^\u001b[0m\n\u001b[1;31mSyntaxError\u001b[0m\u001b[1;31m:\u001b[0m incomplete input\n"
          ]
        }
      ],
      "source": [
        "print(2 + 3"
      ]
    },
    {
      "cell_type": "code",
      "execution_count": 5,
      "metadata": {},
      "outputs": [
        {
          "name": "stdout",
          "output_type": "stream",
          "text": [
            "5\n"
          ]
        }
      ],
      "source": [
        "print(2 + 3)"
      ]
    },
    {
      "cell_type": "code",
      "execution_count": 6,
      "metadata": {},
      "outputs": [
        {
          "name": "stdout",
          "output_type": "stream",
          "text": [
            "1.0\n"
          ]
        }
      ],
      "source": [
        "print( 2 / 2 )"
      ]
    },
    {
      "cell_type": "markdown",
      "metadata": {
        "id": "0qBz6l_Ve4Ut"
      },
      "source": [
        "Variables are placeholders for changeable values <br>\n",
        "\n",
        "<p> How to define a variable? Conventions for defining a variable </p>\n",
        "\n",
        "<p>A variable name can not start with special character(@, #, -, +, !, `, ~, \", ', ^, &, %, $) or numbers</p> <br>\n",
        "\n",
        "<p> A variable can start with a letter, an underscore, it can be a mixture of letters, underscore </p>\n",
        "\n",
        "<strong> 3 Cases of defining a variable: <br>\n",
        "Camel-Case: nameOne, <br>\n",
        "Snake-Case: name_one, <br>\n",
        "Pascal-Case: NameOne \n",
        "</strong>"
      ]
    },
    {
      "cell_type": "code",
      "execution_count": 7,
      "metadata": {
        "colab": {
          "base_uri": "https://localhost:8080/"
        },
        "id": "YbyRC6dYep_-",
        "outputId": "ad50475a-eb1e-45f1-9ba1-7a9a1f33d350"
      },
      "outputs": [
        {
          "name": "stdout",
          "output_type": "stream",
          "text": [
            "3\n"
          ]
        }
      ],
      "source": [
        "x = 3\n",
        "\n",
        "print(x)"
      ]
    },
    {
      "cell_type": "code",
      "execution_count": 8,
      "metadata": {
        "colab": {
          "base_uri": "https://localhost:8080/"
        },
        "id": "E6cO_InDiLct",
        "outputId": "90faf2eb-df16-4b66-ed4a-b77d616d75fc"
      },
      "outputs": [
        {
          "name": "stdout",
          "output_type": "stream",
          "text": [
            "5\n"
          ]
        }
      ],
      "source": [
        "x = 5\n",
        "\n",
        "print(x)"
      ]
    },
    {
      "cell_type": "code",
      "execution_count": 9,
      "metadata": {
        "id": "4YZaOnxtikZ-"
      },
      "outputs": [
        {
          "data": {
            "text/plain": [
              "140730177471400"
            ]
          },
          "execution_count": 9,
          "metadata": {},
          "output_type": "execute_result"
        }
      ],
      "source": [
        "id(x)"
      ]
    },
    {
      "cell_type": "code",
      "execution_count": 10,
      "metadata": {},
      "outputs": [
        {
          "name": "stdout",
          "output_type": "stream",
          "text": [
            "140730177471400\n"
          ]
        }
      ],
      "source": [
        "y = 5 #Integers\n",
        "\n",
        "print(id(y))"
      ]
    },
    {
      "cell_type": "code",
      "execution_count": 11,
      "metadata": {},
      "outputs": [
        {
          "data": {
            "text/plain": [
              "2687096109040"
            ]
          },
          "execution_count": 11,
          "metadata": {},
          "output_type": "execute_result"
        }
      ],
      "source": [
        "diff_dtype = \"Victor\" # String\n",
        "\n",
        "id(diff_dtype)"
      ]
    },
    {
      "cell_type": "code",
      "execution_count": null,
      "metadata": {},
      "outputs": [],
      "source": []
    }
  ],
  "metadata": {
    "colab": {
      "provenance": []
    },
    "kernelspec": {
      "display_name": "Python 3",
      "name": "python3"
    },
    "language_info": {
      "codemirror_mode": {
        "name": "ipython",
        "version": 3
      },
      "file_extension": ".py",
      "mimetype": "text/x-python",
      "name": "python",
      "nbconvert_exporter": "python",
      "pygments_lexer": "ipython3",
      "version": "3.11.7"
    }
  },
  "nbformat": 4,
  "nbformat_minor": 0
}
